{
 "cells": [
  {
   "cell_type": "code",
   "execution_count": 43,
   "id": "f0f1b876",
   "metadata": {},
   "outputs": [],
   "source": [
    "import numpy as np\n",
    "import itertools\n",
    "import math"
   ]
  },
  {
   "cell_type": "code",
   "execution_count": 44,
   "id": "8b541a8a",
   "metadata": {},
   "outputs": [],
   "source": [
    "rates = np.array([[1, 1.34, 1.98, 0.64],\n",
    "                  [0.72, 1, 1.45, 0.52],\n",
    "                  [0.48, 0.7, 1, 0.31],\n",
    "                  [1.49, 1.95, 3.1, 1]\n",
    "                 ])\n",
    "\n",
    "products = {0:'Shell', 1:'Snowball', 2:'Pizza', 3:'silicon'}"
   ]
  },
  {
   "cell_type": "code",
   "execution_count": 45,
   "id": "5db92525",
   "metadata": {},
   "outputs": [],
   "source": [
    "def amount(seq):\n",
    "    \"\"\"Compute the final amount after a sequence of trades, starting with 1 SeaShell.\n",
    "\n",
    "    Parameters\n",
    "    ----------\n",
    "    seq : list of int\n",
    "        List of intermediate products traded.\n",
    "    \n",
    "    Returns\n",
    "    -------\n",
    "    float\n",
    "        Payoff.\n",
    "    \"\"\"\n",
    "    if not seq:\n",
    "        return 1\n",
    "    prod = rates[0, seq[0]] * rates[seq[-1], 0]\n",
    "    L = len(seq)\n",
    "    for i in range(L-1):\n",
    "        prod *= rates[seq[i], seq[i+1]]\n",
    "    return prod"
   ]
  },
  {
   "cell_type": "code",
   "execution_count": 46,
   "id": "b55c3a8f",
   "metadata": {},
   "outputs": [],
   "source": [
    "def maximize(L):\n",
    "    \"\"\"Among sequences of L intermediate products, compute the ones with greatest final amount.\n",
    "\n",
    "    Parameters\n",
    "    ----------\n",
    "    L : int\n",
    "        Number of intermediate products.\n",
    "    \n",
    "    Returns\n",
    "    -------\n",
    "    argmax : list of tuple\n",
    "        Optimal sequences of intermediate trades.\n",
    "    max_val : float\n",
    "        Maximal final amount for L intermediate products.\n",
    "    \"\"\"\n",
    "    seqs = itertools.product(*[range(0, 4) for _ in range(L)])\n",
    "    max_val = float('-inf')\n",
    "    argmax = []\n",
    "    for seq in seqs:\n",
    "        p = amount(seq)\n",
    "        if math.isclose(p, max_val):\n",
    "            argmax.append(seq)\n",
    "        elif p > max_val:\n",
    "            max_val = p\n",
    "            argmax = [seq]\n",
    "    return (argmax, max_val)"
   ]
  },
  {
   "cell_type": "code",
   "execution_count": 47,
   "id": "e3c2c7aa",
   "metadata": {},
   "outputs": [
    {
     "name": "stdout",
     "output_type": "stream",
     "text": [
      "([()], 1)\n",
      "([(0,)], np.float64(1.0))\n",
      "([(1, 3)], np.float64(1.038232))\n",
      "([(2, 1, 3)], np.float64(1.0738728))\n",
      "([(1, 3, 2, 1)], np.float64(1.0886803200000001))\n"
     ]
    }
   ],
   "source": [
    "for L in range(0,5):\n",
    "    print(maximize(L))"
   ]
  },
  {
   "cell_type": "code",
   "execution_count": 48,
   "id": "885df608",
   "metadata": {},
   "outputs": [
    {
     "name": "stdout",
     "output_type": "stream",
     "text": [
      "Optimal sequences of trades:\n",
      "Shell -> Snowball -> silicon -> Pizza -> Snowball -> Shell\n"
     ]
    }
   ],
   "source": [
    "argmax, _ = maximize(4)\n",
    "print(\"Optimal sequences of trades:\")\n",
    "for seq in argmax:\n",
    "    res = ' -> '.join([products[0]] + [products[i] for i in seq] + [products[0]])\n",
    "    print(res)"
   ]
  },
  {
   "cell_type": "code",
   "execution_count": null,
   "id": "822e7851",
   "metadata": {},
   "outputs": [],
   "source": []
  },
  {
   "cell_type": "code",
   "execution_count": null,
   "id": "59c9cf24",
   "metadata": {},
   "outputs": [],
   "source": []
  }
 ],
 "metadata": {
  "kernelspec": {
   "display_name": "algo",
   "language": "python",
   "name": "python3"
  },
  "language_info": {
   "codemirror_mode": {
    "name": "ipython",
    "version": 3
   },
   "file_extension": ".py",
   "mimetype": "text/x-python",
   "name": "python",
   "nbconvert_exporter": "python",
   "pygments_lexer": "ipython3",
   "version": "3.12.9"
  }
 },
 "nbformat": 4,
 "nbformat_minor": 5
}
